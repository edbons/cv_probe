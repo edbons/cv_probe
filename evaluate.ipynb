{
 "cells": [
  {
   "cell_type": "code",
   "execution_count": 1,
   "metadata": {},
   "outputs": [],
   "source": [
    "import pandas as pd\n",
    "from traffic_intensity import evaluate, stream_predict_save"
   ]
  },
  {
   "cell_type": "code",
   "execution_count": null,
   "metadata": {},
   "outputs": [],
   "source": [
    "df = pd.read_csv('c:/datasets/car_traffic/info.txt', sep='\\t', header=0, names=['filename', 'date(yyyymmdd)', 'timestamp', 'direction', 'day/night', 'weather', 'start frame', 'number of frames', 'class', 'notes'])\n",
    "df.drop(columns=['notes'], inplace=True)"
   ]
  },
  {
   "cell_type": "code",
   "execution_count": null,
   "metadata": {},
   "outputs": [],
   "source": [
    "# Base model\n",
    "\n",
    "path = 'c:/datasets/car_traffic/video/'\n",
    "\n",
    "counter = 0\n",
    "for i, name in enumerate(df.filename):\n",
    "    file = path + name + '.avi'\n",
    "    predict = evaluate(file, estimator='base')\n",
    "    if predict == df['class'][i]:\n",
    "        counter += 1\n",
    "    print(f\"File {i + 1}, predict: {predict}, label true: {df['class'][i]}\")\n",
    "print(\"accuracy\", counter / df.shape[0]) "
   ]
  },
  {
   "cell_type": "code",
   "execution_count": null,
   "metadata": {},
   "outputs": [],
   "source": [
    "# Kmeans model\n",
    "\n",
    "path = 'c:/datasets/car_traffic/video/'\n",
    "\n",
    "counter = 0\n",
    "for i, name in enumerate(df.filename):\n",
    "    file = path + name + '.avi'\n",
    "    predict = evaluate(file, estimator='kmeans')\n",
    "    if predict == df['class'][i]:\n",
    "        counter += 1\n",
    "    print(f\"File {i + 1}, predict: {predict}, label true: {df['class'][i]}\")\n",
    "print(\"accuracy\", counter / df.shape[0]) "
   ]
  },
  {
   "cell_type": "markdown",
   "metadata": {},
   "source": [
    "# Predict intensity on video stream"
   ]
  },
  {
   "cell_type": "code",
   "execution_count": 2,
   "metadata": {},
   "outputs": [],
   "source": [
    "path = 'c:/datasets/car_traffic/stream_1627481091_cam2.ts'\n",
    "stream_predict_save(path, estimator='base')"
   ]
  }
 ],
 "metadata": {
  "interpreter": {
   "hash": "2d3a13fa35461c6d7f441fbb3d93fc4f14860aa527e8f914775d5e57b8364c02"
  },
  "kernelspec": {
   "display_name": "Python 3.9.5 64-bit ('tf': conda)",
   "language": "python",
   "name": "python3"
  },
  "language_info": {
   "codemirror_mode": {
    "name": "ipython",
    "version": 3
   },
   "file_extension": ".py",
   "mimetype": "text/x-python",
   "name": "python",
   "nbconvert_exporter": "python",
   "pygments_lexer": "ipython3",
   "version": "3.9.5"
  },
  "orig_nbformat": 4
 },
 "nbformat": 4,
 "nbformat_minor": 2
}
