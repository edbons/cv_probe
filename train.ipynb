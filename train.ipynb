{
 "cells": [
  {
   "cell_type": "code",
   "execution_count": 1,
   "metadata": {},
   "outputs": [
    {
     "name": "stdout",
     "output_type": "stream",
     "text": [
      "4.5.3\n",
      "1.20.3\n"
     ]
    }
   ],
   "source": [
    "import cv2 as cv\n",
    "import numpy as np\n",
    "import pandas as pd\n",
    "import os\n",
    "import shutil\n",
    "import pickle\n",
    "from traffic_intensity import video_analyze, predict\n",
    "\n",
    "print(cv.__version__)\n",
    "print(np.__version__)\n"
   ]
  },
  {
   "cell_type": "markdown",
   "metadata": {},
   "source": [
    "# Подготовка данных"
   ]
  },
  {
   "cell_type": "code",
   "execution_count": 2,
   "metadata": {},
   "outputs": [
    {
     "name": "stderr",
     "output_type": "stream",
     "text": [
      "<ipython-input-2-4479b2cdea67>:6: SettingWithCopyWarning: \n",
      "A value is trying to be set on a copy of a slice from a DataFrame\n",
      "\n",
      "See the caveats in the documentation: https://pandas.pydata.org/pandas-docs/stable/user_guide/indexing.html#returning-a-view-versus-a-copy\n",
      "  df['labels'][df['class'] == 'heavy'] = 0\n",
      "<ipython-input-2-4479b2cdea67>:7: SettingWithCopyWarning: \n",
      "A value is trying to be set on a copy of a slice from a DataFrame\n",
      "\n",
      "See the caveats in the documentation: https://pandas.pydata.org/pandas-docs/stable/user_guide/indexing.html#returning-a-view-versus-a-copy\n",
      "  df['labels'][df['class'] == 'light'] = 1\n",
      "<ipython-input-2-4479b2cdea67>:8: SettingWithCopyWarning: \n",
      "A value is trying to be set on a copy of a slice from a DataFrame\n",
      "\n",
      "See the caveats in the documentation: https://pandas.pydata.org/pandas-docs/stable/user_guide/indexing.html#returning-a-view-versus-a-copy\n",
      "  df['labels'][df['class'] == 'medium'] = 2\n"
     ]
    }
   ],
   "source": [
    "df = pd.read_csv('c:/datasets/car_traffic/info.txt', sep='\\t', header=0, names=['filename', 'date(yyyymmdd)', 'timestamp', 'direction', 'day/night', 'weather', 'start frame', 'number of frames', 'class', 'notes'])\n",
    "df.drop(columns=['notes'], inplace=True)\n",
    "df['points'] = 0.0\n",
    "df['velocities'] = 0.0\n",
    "df['labels'] = 0\n",
    "df['labels'][df['class'] == 'heavy'] = 0\n",
    "df['labels'][df['class'] == 'light'] = 1\n",
    "df['labels'][df['class'] == 'medium'] = 2"
   ]
  },
  {
   "cell_type": "code",
   "execution_count": 3,
   "metadata": {},
   "outputs": [
    {
     "name": "stdout",
     "output_type": "stream",
     "text": [
      "1    165\n",
      "2     45\n",
      "0     44\n",
      "Name: labels, dtype: int64\n",
      "(133, 13)\n",
      "2    45\n",
      "1    44\n",
      "0    44\n",
      "Name: labels, dtype: int64\n"
     ]
    }
   ],
   "source": [
    "# Устранение разбалансировки классов\n",
    "\n",
    "print(df['labels'].value_counts())\n",
    "\n",
    "max_cls = df['labels'].value_counts().idxmax()\n",
    "max_cls_count = df['labels'].value_counts().max()\n",
    "reduction_factors = df['labels'].value_counts() / max_cls_count\n",
    "rebalance_count = int(max_cls_count * min(reduction_factors))\n",
    "droped_idx = np.random.choice(df[df['labels']==max_cls].index, replace=False, size=max_cls_count - rebalance_count) \n",
    "\n",
    "df.drop(index=droped_idx, inplace=True)\n",
    "df.reset_index(inplace=True)\n",
    "\n",
    "print(df.shape)\n",
    "print(df['labels'].value_counts())"
   ]
  },
  {
   "cell_type": "markdown",
   "metadata": {},
   "source": [
    "## Извлечение признаков"
   ]
  },
  {
   "cell_type": "code",
   "execution_count": 4,
   "metadata": {},
   "outputs": [
    {
     "name": "stderr",
     "output_type": "stream",
     "text": [
      "<ipython-input-4-f486f7d712f9>:14: SettingWithCopyWarning: \n",
      "A value is trying to be set on a copy of a slice from a DataFrame\n",
      "\n",
      "See the caveats in the documentation: https://pandas.pydata.org/pandas-docs/stable/user_guide/indexing.html#returning-a-view-versus-a-copy\n",
      "  df['points'][i], df['velocities'][i] = video_analyze(path=file, saved_path=backup_path, save_img=save_img)\n"
     ]
    },
    {
     "name": "stdout",
     "output_type": "stream",
     "text": [
      "File 1, points: 33.0, v: 0.01565540151438868, label true: medium\n",
      "File 2, points: 38.0, v: 0.010687475323765, label true: medium\n",
      "File 3, points: 20.0, v: 0.009598616081955688, label true: light\n",
      "File 4, points: 88.0, v: 0.007524372174481055, label true: medium\n",
      "File 5, points: 47.0, v: 0.01561422069298849, label true: medium\n",
      "File 6, points: 82.0, v: 0.008005817318362902, label true: medium\n",
      "File 7, points: 144.0, v: 0.005837679069034512, label true: medium\n",
      "File 8, points: 76.0, v: 0.006956397152765837, label true: medium\n",
      "File 9, points: 69.0, v: 0.008572990018242495, label true: heavy\n",
      "File 10, points: 32.0, v: 0.023162733082581932, label true: medium\n",
      "File 11, points: 20.0, v: 0.021439692984988268, label true: medium\n",
      "File 12, points: 155.0, v: 0.001796508371438936, label true: heavy\n",
      "File 13, points: 109.0, v: 0.0047904837742628265, label true: medium\n",
      "File 14, points: 97.0, v: 0.006483434026851283, label true: heavy\n",
      "File 15, points: 106.0, v: 0.004747679038330585, label true: heavy\n",
      "File 16, points: 188.0, v: 0.003028454699119612, label true: heavy\n",
      "File 17, points: 96.0, v: 0.013130589287344322, label true: heavy\n",
      "File 18, points: 208.0, v: 0.0032397856940654087, label true: heavy\n",
      "File 19, points: 95.0, v: 0.00957362593357049, label true: heavy\n",
      "File 20, points: 188.0, v: 0.0032492164487701015, label true: heavy\n",
      "File 21, points: 162.0, v: 0.00507096536008065, label true: heavy\n",
      "File 22, points: 163.0, v: 0.0028557261557415545, label true: heavy\n",
      "File 23, points: 183.0, v: 0.0033322912564873516, label true: heavy\n",
      "File 24, points: 105.0, v: 0.007130981985532119, label true: heavy\n",
      "File 25, points: 126.0, v: 0.011872399583012335, label true: heavy\n",
      "File 26, points: 82.0, v: 0.014360985764407821, label true: medium\n",
      "File 27, points: 44.0, v: 0.024939897395198894, label true: medium\n",
      "File 28, points: 26.0, v: 0.014058060561094689, label true: medium\n",
      "File 29, points: 83.0, v: 0.02577861170907574, label true: medium\n",
      "File 30, points: 108.0, v: 0.01209852445371008, label true: heavy\n",
      "File 31, points: 124.0, v: 0.010628716169006633, label true: medium\n",
      "File 32, points: 70.0, v: 0.010540611191476767, label true: medium\n",
      "File 33, points: 77.0, v: 0.015352349519022035, label true: medium\n",
      "File 34, points: 124.0, v: 0.016275794793195193, label true: medium\n",
      "File 35, points: 101.0, v: 0.028113887374490984, label true: medium\n",
      "File 36, points: 31.0, v: 0.017898999688048624, label true: light\n",
      "File 37, points: 34.0, v: 0.02244875206088076, label true: light\n",
      "File 38, points: 15.0, v: 0.029104314938005676, label true: light\n",
      "File 39, points: 22.0, v: 0.017711452660488312, label true: light\n",
      "File 40, points: 19.0, v: 0.014222298787903931, label true: light\n",
      "File 41, points: 8.0, v: 0.02443690596640605, label true: light\n",
      "File 42, points: 15.0, v: 0.014583564963335351, label true: light\n",
      "File 43, points: 16.0, v: 0.023221448978536237, label true: light\n",
      "File 44, points: 36.0, v: 0.013182453992611316, label true: light\n",
      "File 45, points: 21.0, v: 0.029993189251780163, label true: light\n",
      "File 46, points: 13.0, v: 0.0066838896670021785, label true: light\n",
      "File 47, points: 25.0, v: 0.018101969575232295, label true: light\n",
      "File 48, points: 16.0, v: 0.022295060142580647, label true: light\n",
      "File 49, points: 29.0, v: 0.010838997867580896, label true: light\n",
      "File 50, points: 27.0, v: 0.016445604688172986, label true: light\n",
      "File 51, points: 10.0, v: 0.021937181000506505, label true: light\n",
      "File 52, points: 14.0, v: 0.0158610307173745, label true: light\n",
      "File 53, points: 8.0, v: 0.02363905436495809, label true: light\n",
      "File 54, points: 24.0, v: 0.021313901714545065, label true: light\n",
      "File 55, points: 7.0, v: 0.0172240733170749, label true: light\n",
      "File 56, points: 20.0, v: 0.02776451731426902, label true: light\n",
      "File 57, points: 15.0, v: 0.03695589236654199, label true: light\n",
      "File 58, points: 23.0, v: 0.049906835259808505, label true: light\n",
      "File 59, points: 18.0, v: 0.017708087629946693, label true: light\n",
      "File 60, points: 35.0, v: 0.014457673928176288, label true: light\n",
      "File 61, points: 38.0, v: 0.025540356339335196, label true: light\n",
      "File 62, points: 28.0, v: 0.023613880884209973, label true: light\n",
      "File 63, points: 14.0, v: 0.02606802270184005, label true: light\n",
      "File 64, points: 15.0, v: 0.03470410750186578, label true: light\n",
      "File 65, points: 8.0, v: 0.01535410561079025, label true: light\n",
      "File 66, points: 18.0, v: 0.020012048632472825, label true: light\n",
      "File 67, points: 8.0, v: 0.010148209473551321, label true: light\n",
      "File 68, points: 21.0, v: 0.02442860527993019, label true: light\n",
      "File 69, points: 14.0, v: 0.010033635846254402, label true: light\n",
      "File 70, points: 41.0, v: 0.0133325840770836, label true: light\n",
      "File 71, points: 10.0, v: 0.02035480703654123, label true: medium\n",
      "File 72, points: 65.0, v: 0.008467373500814373, label true: light\n",
      "File 73, points: 15.0, v: 0.031010670579324016, label true: medium\n",
      "File 74, points: 44.0, v: 0.015653955281450117, label true: medium\n",
      "File 75, points: 31.0, v: 0.013151199490399319, label true: heavy\n",
      "File 76, points: 109.0, v: 0.007824427486405786, label true: medium\n",
      "File 77, points: 104.0, v: 0.018412440100701383, label true: medium\n",
      "File 78, points: 105.0, v: 0.015457848164255647, label true: medium\n",
      "File 79, points: 44.0, v: 0.014540765258666297, label true: medium\n",
      "File 80, points: 91.0, v: 0.010806837645342708, label true: medium\n",
      "File 81, points: 17.0, v: 0.021813945620591184, label true: heavy\n",
      "File 82, points: 64.0, v: 0.010191926404956843, label true: heavy\n",
      "File 83, points: 17.0, v: 0.00818938475002474, label true: heavy\n",
      "File 84, points: 14.0, v: 0.01616007215538654, label true: heavy\n",
      "File 85, points: 13.0, v: 0.022178054679866496, label true: heavy\n",
      "File 86, points: 123.0, v: 0.009635272696358183, label true: heavy\n",
      "File 87, points: 59.0, v: 0.024947442136993084, label true: medium\n",
      "File 88, points: 133.0, v: 0.011890430013941718, label true: medium\n",
      "File 89, points: 66.0, v: 0.003958317897948636, label true: heavy\n",
      "File 90, points: 43.0, v: 0.0058232914470126304, label true: heavy\n",
      "File 91, points: 22.0, v: 0.006055348905844558, label true: heavy\n",
      "File 92, points: 66.0, v: 0.004980204765392288, label true: heavy\n",
      "File 93, points: 15.0, v: 0.011093388449609838, label true: heavy\n",
      "File 94, points: 100.0, v: 0.003442962538016044, label true: heavy\n",
      "File 95, points: 20.0, v: 0.02150240244874473, label true: medium\n",
      "File 96, points: 23.0, v: 0.011526292783637163, label true: heavy\n",
      "File 97, points: 64.0, v: 0.005902131131823064, label true: heavy\n",
      "File 98, points: 59.0, v: 0.014756739637091818, label true: medium\n",
      "File 99, points: 34.0, v: 0.007275751782380843, label true: medium\n",
      "File 100, points: 105.0, v: 0.0059919993396078085, label true: medium\n",
      "File 101, points: 29.0, v: 0.007497366040686467, label true: medium\n",
      "File 102, points: 48.0, v: 0.0046504570338216315, label true: heavy\n",
      "File 103, points: 85.0, v: 0.013102852901127265, label true: heavy\n",
      "File 104, points: 84.0, v: 0.008886645007061678, label true: medium\n",
      "File 105, points: 70.0, v: 0.010084275273129158, label true: medium\n",
      "File 106, points: 14.0, v: 0.0064522962919017594, label true: heavy\n",
      "File 107, points: 51.0, v: 0.003982040442319725, label true: heavy\n",
      "File 108, points: 132.0, v: 0.013106812891713745, label true: heavy\n",
      "File 109, points: 116.0, v: 0.005819055146713829, label true: heavy\n",
      "File 110, points: 246.0, v: 0.004218299420663932, label true: heavy\n",
      "File 111, points: 42.0, v: 0.020692047926079888, label true: medium\n",
      "File 112, points: 215.0, v: 0.013153080083103756, label true: heavy\n",
      "File 113, points: 207.0, v: 0.0032113567659036646, label true: heavy\n",
      "File 114, points: 269.0, v: 0.0035400519270144073, label true: heavy\n",
      "File 115, points: 245.0, v: 0.010841148807462115, label true: heavy\n",
      "File 116, points: 27.0, v: 0.02130101298061883, label true: medium\n",
      "File 117, points: 45.0, v: 0.021341672687888173, label true: medium\n",
      "File 118, points: 50.0, v: 0.029215184122174005, label true: medium\n",
      "File 119, points: 190.0, v: 0.003422647107088654, label true: heavy\n",
      "File 120, points: 156.0, v: 0.0037400105780694857, label true: heavy\n",
      "File 121, points: 114.0, v: 0.007396144227325373, label true: medium\n",
      "File 122, points: 60.0, v: 0.00925380905895032, label true: medium\n",
      "File 123, points: 133.0, v: 0.010037091644926058, label true: medium\n",
      "File 124, points: 90.0, v: 0.005786931426804038, label true: medium\n",
      "File 125, points: 117.0, v: 0.0037911144697145727, label true: heavy\n",
      "File 126, points: 54.0, v: 0.009426060575379444, label true: medium\n",
      "File 127, points: 28.0, v: 0.020864138379836826, label true: light\n",
      "File 128, points: 51.0, v: 0.019197364692312244, label true: light\n",
      "File 129, points: 37.0, v: 0.014402066156554968, label true: light\n",
      "File 130, points: 42.0, v: 0.019159277501375534, label true: light\n",
      "File 131, points: 63.0, v: 0.019844857581376628, label true: light\n",
      "File 132, points: 45.0, v: 0.005462981150380587, label true: light\n",
      "File 133, points: 38.0, v: 0.030723204139943408, label true: light\n"
     ]
    }
   ],
   "source": [
    "path = 'c:/datasets/car_traffic/video/'\n",
    "backup_path = './images'\n",
    "save_img = False\n",
    "\n",
    "if save_img:\n",
    "    if os.path.exists(backup_path):\n",
    "        shutil.rmtree(backup_path)\n",
    "        os.mkdir(backup_path)\n",
    "    else:\n",
    "        os.mkdir(backup_path)\n",
    "\n",
    "for i, name in enumerate(df.filename):\n",
    "    file = path + name + '.avi'\n",
    "    df['points'][i], df['velocities'][i] = video_analyze(path=file, saved_path=backup_path, save_img=save_img)\n",
    "    print(f\"File {i + 1}, points: {df['points'][i]}, v: {df['velocities'][i]}, label true: {df['class'][i]}\")"
   ]
  },
  {
   "cell_type": "code",
   "execution_count": 5,
   "metadata": {},
   "outputs": [
    {
     "name": "stdout",
     "output_type": "stream",
     "text": [
      "Корреляция кол-ва точек и средней скорости потока: -0.5401292113897629\n"
     ]
    }
   ],
   "source": [
    "print(\"Корреляция кол-ва точек и средней скорости потока:\", df['points'].corr(df['velocities']))"
   ]
  },
  {
   "cell_type": "markdown",
   "metadata": {},
   "source": [
    "Корреляция обратная (больше машин, меньше средняя скорость потока), умеренная (средняя). \n",
    "Допущение: кол-во объектов учтено в средней скорости потока, поэтому не используется в обучении моделей  "
   ]
  },
  {
   "cell_type": "markdown",
   "metadata": {},
   "source": [
    "## Формирование обучающей выборки"
   ]
  },
  {
   "cell_type": "code",
   "execution_count": 6,
   "metadata": {},
   "outputs": [
    {
     "name": "stdout",
     "output_type": "stream",
     "text": [
      "(109, 2) (24, 2)\n",
      "(109, 1) (109,)\n",
      "(24, 1) (24,)\n"
     ]
    }
   ],
   "source": [
    "mask = np.random.rand(len(df)) < 0.8\n",
    "train = df.loc[:, 'velocities':'labels'][mask]\n",
    "test = df.loc[:, 'velocities':'labels'][~mask]\n",
    "print(train.shape, test.shape)\n",
    "\n",
    "x_train = train.loc[:, 'velocities'].to_numpy()\n",
    "x_train = np.float32(x_train.reshape(-1, 1))\n",
    "y_train = train.loc[:, 'labels'].to_numpy()\n",
    "print(x_train.shape, y_train.shape)\n",
    "\n",
    "x_test = test.loc[:, 'velocities'].to_numpy()\n",
    "x_test = np.float32(x_test.reshape(-1, 1))\n",
    "y_test = test.loc[:, 'labels'].to_numpy()\n",
    "print(x_test.shape, y_test.shape)\n"
   ]
  },
  {
   "cell_type": "markdown",
   "metadata": {},
   "source": [
    "# Base model"
   ]
  },
  {
   "cell_type": "code",
   "execution_count": 7,
   "metadata": {},
   "outputs": [
    {
     "name": "stdout",
     "output_type": "stream",
     "text": [
      "heavy 0.0037783384968033008 0.005978740018833811 0.01120161453311667\n",
      "medium 0.008886645007061678 0.014360985764407821 0.020692047926079888\n",
      "light 0.014443771985270958 0.01917832109684389 0.023836442093701116\n",
      "Edges (Low, High): {'heavy': (0, 0.008886645007061678), 'medium': (0.008886645007061678, 0.014443771985270958), 'light': (0.014443771985270958,)}\n"
     ]
    }
   ],
   "source": [
    "heavy_25 = np.percentile(df['velocities'][df['class'] == 'heavy'], 25)\n",
    "heavy_50 = np.percentile(df['velocities'][df['class'] == 'heavy'], 50)\n",
    "heavy_75 = np.percentile(df['velocities'][df['class'] == 'heavy'], 75)\n",
    "print(\"heavy\", heavy_25, heavy_50, heavy_75)\n",
    "\n",
    "medium_25 = np.percentile(df['velocities'][df['class'] == 'medium'], 25)\n",
    "medium_50 = np.percentile(df['velocities'][df['class'] == 'medium'], 50)\n",
    "medium_75 = np.percentile(df['velocities'][df['class'] == 'medium'], 75)\n",
    "print(\"medium\", medium_25, medium_50, medium_75)\n",
    "\n",
    "light_25 = np.percentile(df['velocities'][df['class'] == 'light'], 25)\n",
    "light_50 = np.percentile(df['velocities'][df['class'] == 'light'], 50)\n",
    "light_75 = np.percentile(df['velocities'][df['class'] == 'light'], 75)\n",
    "print(\"light\", light_25, light_50, light_75)\n",
    "\n",
    "base_model_edges = {'heavy': (0, max(heavy_50, medium_25)),\n",
    "                    'medium': (max(heavy_50, medium_25), max(medium_50, light_25)), \n",
    "                    'light': (max(medium_50, light_25), ) \n",
    "                    }\n",
    "\n",
    "with open('basemodel.dict', 'wb') as f:\n",
    "    print(\"Edges (Low, High):\", base_model_edges)\n",
    "    pickle.dump(base_model_edges, f)"
   ]
  },
  {
   "cell_type": "markdown",
   "metadata": {},
   "source": [
    "## SVM"
   ]
  },
  {
   "cell_type": "markdown",
   "metadata": {},
   "source": [
    "Проблема: predict не выдает лейбла 2, надо дальше разбираться как работает предикт при мультиклассовой классификации в OpenCV"
   ]
  },
  {
   "cell_type": "code",
   "execution_count": null,
   "metadata": {},
   "outputs": [],
   "source": [
    "df['labels'] = 0\n",
    "df['labels'][df['class'] == 'heavy'] = 0\n",
    "df['labels'][df['class'] == 'light'] = 1\n",
    "df['labels'][df['class'] == 'medium'] = 2"
   ]
  },
  {
   "cell_type": "code",
   "execution_count": null,
   "metadata": {},
   "outputs": [],
   "source": [
    "svm = cv.ml.SVM_create()\n",
    "svm.setKernel(cv.ml.SVM_LINEAR)\n",
    "svm.setType(cv.ml.SVM_C_SVC)\n",
    "svm.setC(2.67)\n",
    "svm.setGamma(5.383)\n",
    "svm.train(x_train, cv.ml.ROW_SAMPLE, y_train)\n",
    "svm.save('svm_data.dat')\n",
    "\n",
    "result = svm.predict(x_train)[1]\n",
    "mask = result==y_test\n",
    "correct = np.count_nonzero(mask)\n",
    "print(correct * 100.0 / result.size)\n"
   ]
  },
  {
   "cell_type": "code",
   "execution_count": null,
   "metadata": {},
   "outputs": [],
   "source": [
    "print(result)"
   ]
  },
  {
   "cell_type": "markdown",
   "metadata": {},
   "source": [
    "## KMeans"
   ]
  },
  {
   "cell_type": "code",
   "execution_count": 8,
   "metadata": {},
   "outputs": [
    {
     "name": "stdout",
     "output_type": "stream",
     "text": [
      "Центры кластеров: [[0.03583   ]\n",
      " [0.00744685]\n",
      " [0.02086256]]\n"
     ]
    }
   ],
   "source": [
    "criteria = (cv.TERM_CRITERIA_EPS + cv.TERM_CRITERIA_MAX_ITER, 10, 1.0)\n",
    "ret, label, center = cv.kmeans(x_train, 3 , None, criteria, 10, cv.KMEANS_RANDOM_CENTERS)\n",
    "print(\"Центры кластеров:\", center)"
   ]
  },
  {
   "cell_type": "code",
   "execution_count": 9,
   "metadata": {},
   "outputs": [],
   "source": [
    "np.save('centroids', center)"
   ]
  },
  {
   "cell_type": "code",
   "execution_count": 10,
   "metadata": {},
   "outputs": [],
   "source": [
    "index2label = {0: 'light', 1: 'heavy', 2: 'medium'}\n",
    "with open('index2label.dict', 'wb') as f:\n",
    "    pickle.dump(index2label, f)"
   ]
  },
  {
   "cell_type": "code",
   "execution_count": 11,
   "metadata": {},
   "outputs": [
    {
     "name": "stdout",
     "output_type": "stream",
     "text": [
      "Accuracy: 0.16666666666666666\n"
     ]
    }
   ],
   "source": [
    "result = []\n",
    "for i in range(x_test.shape[0]):\n",
    "    result.append(predict(x_test[i], centroids=center)) \n",
    "print(\"Accuracy:\", np.sum(np.array(result)==y_test) / y_test.size)"
   ]
  }
 ],
 "metadata": {
  "interpreter": {
   "hash": "2d3a13fa35461c6d7f441fbb3d93fc4f14860aa527e8f914775d5e57b8364c02"
  },
  "kernelspec": {
   "display_name": "Python 3.9.5 64-bit ('tf': conda)",
   "name": "python3"
  },
  "language_info": {
   "codemirror_mode": {
    "name": "ipython",
    "version": 3
   },
   "file_extension": ".py",
   "mimetype": "text/x-python",
   "name": "python",
   "nbconvert_exporter": "python",
   "pygments_lexer": "ipython3",
   "version": "3.9.5"
  },
  "orig_nbformat": 4
 },
 "nbformat": 4,
 "nbformat_minor": 2
}
